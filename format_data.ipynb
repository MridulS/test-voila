{
 "cells": [
  {
   "cell_type": "code",
   "execution_count": 1,
   "metadata": {},
   "outputs": [],
   "source": [
    "\n",
    "import pickle"
   ]
  },
  {
   "cell_type": "code",
   "execution_count": 2,
   "metadata": {},
   "outputs": [],
   "source": [
    "data = {}"
   ]
  },
  {
   "cell_type": "code",
   "execution_count": 4,
   "metadata": {},
   "outputs": [],
   "source": [
    "with open('data_probs_Lspell_real_1.0.pickle', 'rb') as f:\n",
    "    data['Lspell_real_1.0'] = pickle.load(f)\n",
    "with open('data_probs_Lspell_real_2.0.pickle', 'rb') as f:\n",
    "    data['Lspell_real_2.0'] = pickle.load(f)\n",
    "with open('data_probs_Lspell_real_3.0.pickle', 'rb') as f:\n",
    "    data['Lspell_real_3.0'] = pickle.load(f)\n",
    "with open('data_probs_Lspell_real_4.0.pickle', 'rb') as f:\n",
    "    data['Lspell_real_4.0'] = pickle.load(f)\n",
    "with open('data_probs_Lspell_real_5.0.pickle', 'rb') as f:\n",
    "    data['Lspell_real_5.0'] = pickle.load(f)\n",
    "with open('data_probs_Lspell_real_6.0.pickle', 'rb') as f:\n",
    "    data['Lspell_real_6.0'] = pickle.load(f)\n",
    "# with open('data_Lspell_real.pickle', 'wb') as f:\n",
    "#     pickle.dump(data, f)\n"
   ]
  },
  {
   "cell_type": "code",
   "execution_count": 9,
   "metadata": {},
   "outputs": [],
   "source": [
    "# data['Lspell_real_1.0']['dropout']"
   ]
  },
  {
   "cell_type": "code",
   "execution_count": 20,
   "metadata": {},
   "outputs": [],
   "source": [
    "with open('data_probs_DeepA1_n0.03.pickle', 'rb') as f:\n",
    "    data['DeepA1_n0.03'] = pickle.load(f)\n",
    "with open('data_probs_DeepA1_n0.02.pickle', 'rb') as f:\n",
    "    data['DeepA1_n0.02'] = pickle.load(f)\n",
    "    \n",
    "with open('data_probs_DeepA1_n0.01.pickle', 'rb') as f:\n",
    "    data['DeepA1_n0.01'] = pickle.load(f)\n",
    "    \n",
    "with open('data_probs_DeepA1_0.00.pickle', 'rb') as f:\n",
    "    data['DeepA1_0.00'] = pickle.load(f)\n",
    "\n",
    "with open('data_probs_DeepA1_0.01.pickle', 'rb') as f:\n",
    "    data['DeepA1_0.01'] = pickle.load(f)\n",
    "# with open('data_Lspell_real.pickle', 'wb') as f:\n",
    "#     pickle.dump(data, f)"
   ]
  },
  {
   "cell_type": "code",
   "execution_count": 11,
   "metadata": {},
   "outputs": [],
   "source": [
    "with open('data_probs_uPfac_L_0.8.pickle', 'rb') as f:\n",
    "    data['uPfac_L_0.8'] = pickle.load(f)\n",
    "with open('data_probs_uPfac_L_0.9.pickle', 'rb') as f:\n",
    "    data['uPfac_L_0.9'] = pickle.load(f)\n",
    "with open('data_probs_uPfac_L_1.0.pickle', 'rb') as f:\n",
    "    data['uPfac_L_1.0'] = pickle.load(f)\n",
    "# with open('data_uPfac_L.pickle', 'wb') as f:\n",
    "#     pickle.dump(data, f)"
   ]
  },
  {
   "cell_type": "code",
   "execution_count": 14,
   "metadata": {},
   "outputs": [],
   "source": [
    "with open('data_DeepA1.pickle', 'rb') as f:\n",
    "    data1 = pickle.load(f)\n",
    "with open('data_Lspell_real.pickle', 'rb') as f:\n",
    "    data2 = pickle.load(f)\n",
    "with open('data_uPfac_L.pickle', 'rb') as f:\n",
    "    data3 = pickle.load(f)\n"
   ]
  },
  {
   "cell_type": "code",
   "execution_count": 21,
   "metadata": {},
   "outputs": [
    {
     "data": {
      "text/plain": [
       "dict_keys(['Lspell_real_1.0', 'Lspell_real_2.0', 'Lspell_real_3.0', 'Lspell_real_4.0', 'Lspell_real_5.0', 'Lspell_real_6.0', 'DeepA1_n0.02', 'DeepA1_n0.01', 'DeepA1_0.00', 'DeepA1_0.01', 'uPfac_L_0.8', 'uPfac_L_0.9', 'uPfac_L_1.0', 'DeepA1_n0.03'])"
      ]
     },
     "execution_count": 21,
     "metadata": {},
     "output_type": "execute_result"
    }
   ],
   "source": [
    "data.keys()"
   ]
  },
  {
   "cell_type": "code",
   "execution_count": 22,
   "metadata": {},
   "outputs": [],
   "source": [
    "# data['DeepA1_n0.03']"
   ]
  },
  {
   "cell_type": "code",
   "execution_count": 16,
   "metadata": {},
   "outputs": [],
   "source": [
    "data2.update(data1)"
   ]
  },
  {
   "cell_type": "code",
   "execution_count": 17,
   "metadata": {},
   "outputs": [
    {
     "data": {
      "text/plain": [
       "dict_keys(['Lspell_real_1.0', 'Lspell_real_2.0', 'Lspell_real_3.0', 'Lspell_real_4.0', 'Lspell_real_5.0', 'Lspell_real_6.0', 'uPfac_L_0.8', 'uPfac_L_0.9', 'uPfac_L_1.0', 'DeepA1_n0.03', 'DeepA1_n0.02', 'DeepA1_n0.01', 'DeepA1_0.00', 'DeepA1_0.01'])"
      ]
     },
     "execution_count": 17,
     "metadata": {},
     "output_type": "execute_result"
    }
   ],
   "source": [
    "data2.keys()"
   ]
  },
  {
   "cell_type": "code",
   "execution_count": 23,
   "metadata": {},
   "outputs": [],
   "source": [
    "for k in data2:\n",
    "    data2[k]['fig6'] = data[k]"
   ]
  },
  {
   "cell_type": "code",
   "execution_count": 26,
   "metadata": {},
   "outputs": [],
   "source": [
    "# data2['DeepA1_n0.03'"
   ]
  },
  {
   "cell_type": "code",
   "execution_count": 27,
   "metadata": {},
   "outputs": [],
   "source": [
    "with open('data_dump.pickle', 'wb') as f:\n",
    "    pickle.dump(data2, f)"
   ]
  },
  {
   "cell_type": "code",
   "execution_count": 100,
   "metadata": {},
   "outputs": [
    {
     "data": {
      "text/plain": [
       "array([2699.63237567, 2884.33763917, 2656.03394577, 2673.83006608,\n",
       "       2701.80593379, 2718.80042537, 2731.03920448, 2739.57719922,\n",
       "       2746.5018151 , 2760.43661581, 2766.62694721, 2769.33099273,\n",
       "       2775.65951115])"
      ]
     },
     "execution_count": 100,
     "metadata": {},
     "output_type": "execute_result"
    }
   ],
   "source": [
    "data['Lspell_real_6.0']['fig3'][2]"
   ]
  },
  {
   "cell_type": "code",
   "execution_count": 101,
   "metadata": {},
   "outputs": [
    {
     "data": {
      "text/plain": [
       "array([2699.63237567, 2878.53319832, 2649.74308062, 2671.73221333,\n",
       "       2691.57722769, 2705.47269207, 2720.90494588, 2725.65158534,\n",
       "       2737.5049293 , 2749.56886069, 2765.89112659, 2773.45314639,\n",
       "       2785.49425757])"
      ]
     },
     "execution_count": 101,
     "metadata": {},
     "output_type": "execute_result"
    }
   ],
   "source": [
    "data['Lspell_real_1.0']['fig3'][2]"
   ]
  },
  {
   "cell_type": "code",
   "execution_count": null,
   "metadata": {},
   "outputs": [],
   "source": [
    "data['Lspell_real_3.0']['fig1'][1]"
   ]
  }
 ],
 "metadata": {
  "jupytext": {
   "notebook_metadata_filter": "all"
  },
  "kernelspec": {
   "display_name": "Python 3",
   "language": "python",
   "name": "python3"
  },
  "language_info": {
   "codemirror_mode": {
    "name": "ipython",
    "version": 3
   },
   "file_extension": ".py",
   "mimetype": "text/x-python",
   "name": "python",
   "nbconvert_exporter": "python",
   "pygments_lexer": "ipython3",
   "version": "3.7.6"
  }
 },
 "nbformat": 4,
 "nbformat_minor": 4
}
