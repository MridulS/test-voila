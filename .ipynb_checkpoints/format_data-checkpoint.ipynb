{
 "cells": [],
 "metadata": {
  "jupytext": {
   "notebook_metadata_filter": "all"
  }
 },
 "nbformat": 4,
 "nbformat_minor": 4
}
