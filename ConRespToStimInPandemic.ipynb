{
 "cells": [
  {
   "cell_type": "code",
   "execution_count": 2,
   "metadata": {},
   "outputs": [],
   "source": [
    "import numpy as np\n",
    "from ipywidgets import FloatSlider, HBox, VBox, Dropdown, Box, GridspecLayout\n",
    "import bqplot.pyplot as plt\n",
    "from bqplot import Axis, LinearScale\n",
    "import pandas as pd\n",
    "from datetime import datetime\n",
    "import pickle"
   ]
  },
  {
   "cell_type": "code",
   "execution_count": 3,
   "metadata": {},
   "outputs": [],
   "source": [
    "with open('data_DeepA1_0.01.pickle', 'rb') as f:\n",
    "    data = pickle.load(f)"
   ]
  },
  {
   "cell_type": "code",
   "execution_count": 4,
   "metadata": {},
   "outputs": [],
   "source": [
    "# data['DeepA1_0.03']['fig1']"
   ]
  },
  {
   "cell_type": "code",
   "execution_count": 5,
   "metadata": {},
   "outputs": [],
   "source": [
    "default = 'DeepA1_0.03'"
   ]
  },
  {
   "cell_type": "code",
   "execution_count": 6,
   "metadata": {},
   "outputs": [],
   "source": [
    "test_labels = np.array(['04/2020', '07/2020', '10/2020', '01/2021', '04/2021', '07/2021', '10/2021', '01/2022', '04/2022', '07/2022', '10/2022', '01/2023', '04/2023'])\n",
    "test_labels = pd.to_datetime([datetime.strptime(i, '%m/%Y') for i in test_labels])"
   ]
  },
  {
   "cell_type": "code",
   "execution_count": 7,
   "metadata": {},
   "outputs": [],
   "source": [
    "# fig1\n",
    "pdf_fig1 = plt.figure(title='Unemployment rate', legend_style = {'stroke-width': 0})\n",
    "pdf_line1 = plt.plot(x=test_labels, y=data[default]['fig1'], labels=['Baseline', 'Pandemic'], display_legend=True)\n",
    "plt.ylim(0.,22.)\n",
    "plt.xlim(test_labels[0], test_labels[-1])\n",
    "plt.xlabel('Quarter')\n",
    "plt.ylabel('Unemployment rate (%)')\n",
    "\n",
    "# fig2\n",
    "pdf_fig2 = plt.figure(title=\"Aggregate consumption\", legend_location='bottom', legend_style = {'stroke-width': 0})\n",
    "pdf_line2 = plt.plot(x=test_labels, y=data[default]['fig2'],\n",
    "                     display_legend=True, labels=[\"Baseline\",\"Pandemic, no policy\",\"Pandemic, CARES Act\"])\n",
    "plt.ylim(2200.,3000.)\n",
    "plt.xlim(test_labels[0], test_labels[-1])\n",
    "plt.xlabel('Quarter')\n",
    "plt.ylabel('Aggregate quarterly consumption (billion $)')\n",
    "\n",
    "# fig3\n",
    "pdf_fig3 = plt.figure(title=\"Aggregate income\", legend_location='bottom', legend_style = {'stroke-width': 0})\n",
    "pdf_line3 = plt.plot(x=test_labels, y=data[default]['fig3'],\n",
    "                     display_legend=True, labels=[\"Baseline\",\"Pandemic, no policy\",\"Pandemic, CARES Act\"])\n",
    "plt.ylim(2200.,3000.)\n",
    "plt.xlim(test_labels[0], test_labels[-1])\n",
    "plt.xlabel('Quarter')\n",
    "plt.ylabel('Aggregate labor and transfer income (billion $)')\n",
    "\n",
    "temp = [\"Employed after pandemic\",\"Unemployed after pandemic\",\"Deeply unemp after pandemic\"]\n",
    "# fig4\n",
    "pdf_fig4 = plt.figure(title=\"Average consumption among working age population\", legend_location='bottom', legend_style = {'stroke-width': 0})\n",
    "pdf_line4 = plt.plot(x=test_labels, y=data[default]['fig4'][:3], display_legend=True, labels=temp)\n",
    "pdf_line41 = plt.plot(x=test_labels, y=data[default]['fig4'][3:6], line_style = 'dotted')\n",
    "pdf_line42 = plt.plot(x=test_labels, y=data[default]['fig4'][6:],  line_style = 'dashed')\n",
    "plt.ylim(6000,15000)\n",
    "plt.xlim(test_labels[0], test_labels[-1])\n",
    "plt.xlabel('Quarter')\n",
    "plt.ylabel('Average quarterly consumption ($)')\n",
    "\n",
    "# fig5\n",
    "pdf_fig5 = plt.figure(title=\"Average income among working age population\", legend_location='bottom', legend_style = {'stroke-width': 0})\n",
    "pdf_line5 = plt.plot(x=test_labels, y=data[default]['fig5'][:3], display_legend=True, labels=temp)\n",
    "pdf_line51 = plt.plot(x=test_labels, y=data[default]['fig5'][3:6], line_style = 'dotted')\n",
    "pdf_line52 = plt.plot(x=test_labels, y=data[default]['fig5'][6:],  line_style = 'dashed')\n",
    "plt.ylim(2000,15000)\n",
    "plt.xlim(test_labels[0], test_labels[-1])\n",
    "plt.xlabel('Quarter')\n",
    "plt.ylabel('Average quarterly consumption ($)')"
   ]
  },
  {
   "cell_type": "code",
   "execution_count": 8,
   "metadata": {},
   "outputs": [],
   "source": [
    "a = Dropdown(options=['uPfac_L', 'Lspell_real', 'DeepA1'])\n",
    "slider = FloatSlider(min=-10, max=10, step=0.01, value=0.0)\n",
    "def update_slider(change):\n",
    "    print(a.value)\n",
    "    if a.value == 'uPfac_L':\n",
    "        print('boo')\n",
    "        slider.min = -1000000\n",
    "        slider.max = +1000000   \n",
    "        slider.min = 0.8\n",
    "        slider.max = 1.0\n",
    "        slider.step = 0.1\n",
    "        slider.value = 0.8\n",
    "    elif a.value == 'Lspell_real':\n",
    "        slider.min = -1000000\n",
    "        slider.max = +1000000\n",
    "        slider.min = 1.0\n",
    "        slider.max = 6.0\n",
    "        slider.step = 2.0\n",
    "        slider.value = 1.0\n",
    "    elif a.value == 'DeepA1':\n",
    "        slider.min = -1000000\n",
    "        slider.max = +1000000  \n",
    "        slider.min = -0.03\n",
    "        slider.max = 0.02\n",
    "        slider.step = 0.04\n",
    "        slider.value = -0.03\n",
    "\n",
    "a.observe(update_slider, names='value')"
   ]
  },
  {
   "cell_type": "code",
   "execution_count": 9,
   "metadata": {},
   "outputs": [],
   "source": [
    "# final_layout = VBox([slider_layout])\n",
    "# final_layout"
   ]
  },
  {
   "cell_type": "code",
   "execution_count": 10,
   "metadata": {},
   "outputs": [],
   "source": [
    "# a.value"
   ]
  },
  {
   "cell_type": "code",
   "execution_count": 11,
   "metadata": {},
   "outputs": [],
   "source": [
    "def update_density(change):\n",
    "    if slider.value == -0.03 and a.value == 'DeepA1':\n",
    "        key = 'DeepA1_0.03'\n",
    "    elif slider.value == 0.01 and a.value == 'DeepA1':\n",
    "        key = 'DeepA1_0.01'\n",
    "    print(key)\n",
    "    pdf_line1.y = data[key]['fig1']\n",
    "    pdf_line2.y = data[key]['fig2']\n",
    "    pdf_line3.y = data[key]['fig3']\n",
    "    pdf_line4.y = data[key]['fig4'][:3]\n",
    "    pdf_line41.y = data[key]['fig4'][3:6]\n",
    "    pdf_line42.y = data[key]['fig4'][6:]\n",
    "    pdf_line5.y = data[key]['fig5'][:3]\n",
    "    pdf_line51.y = data[key]['fig5'][3:6]\n",
    "    pdf_line52.y = data[key]['fig5'][6:]\n",
    "# register the above callback with the 'value' trait of the sliders\n",
    "slider.observe(update_density, 'value')"
   ]
  },
  {
   "cell_type": "code",
   "execution_count": 12,
   "metadata": {},
   "outputs": [
    {
     "data": {
      "application/vnd.jupyter.widget-view+json": {
       "model_id": "4cb2238ab4fd4c0c959e7cf22cb24d4b",
       "version_major": 2,
       "version_minor": 0
      },
      "text/plain": [
       "VBox(children=(VBox(children=(Dropdown(options=('uPfac_L', 'Lspell_real', 'DeepA1'), value='uPfac_L'), FloatSl…"
      ]
     },
     "metadata": {},
     "output_type": "display_data"
    }
   ],
   "source": [
    "# now put all the widgets together into a simple dashboard\n",
    "# the plot should update now when the slider values are updated!\n",
    "# figs = HBox([pdf_fig1, pdf_fig2])\n",
    "slider_layout = VBox([a, slider])\n",
    "\n",
    "# create a 10x2 grid layout\n",
    "grid = GridspecLayout(3, 2)\n",
    "# fill it in with widgets\n",
    "grid[0, 0] = pdf_fig1\n",
    "grid[0, 1] = pdf_fig2\n",
    "grid[1, 0] = pdf_fig3\n",
    "grid[1, 1] = pdf_fig4\n",
    "grid[2, :] = pdf_fig5\n",
    "\n",
    "# set the widget properties\n",
    "# grid[:, 0].layout.height = 'auto'\n",
    "\n",
    "final_layout = VBox([slider_layout, grid])\n",
    "final_layout"
   ]
  },
  {
   "cell_type": "code",
   "execution_count": null,
   "metadata": {},
   "outputs": [],
   "source": []
  },
  {
   "cell_type": "code",
   "execution_count": null,
   "metadata": {},
   "outputs": [],
   "source": []
  },
  {
   "cell_type": "code",
   "execution_count": null,
   "metadata": {},
   "outputs": [],
   "source": []
  },
  {
   "cell_type": "code",
   "execution_count": null,
   "metadata": {},
   "outputs": [],
   "source": []
  }
 ],
 "metadata": {
  "jupytext": {
   "notebook_metadata_filter": "all"
  },
  "kernelspec": {
   "display_name": "Python 3",
   "language": "python",
   "name": "python3"
  },
  "language_info": {
   "codemirror_mode": {
    "name": "ipython",
    "version": 3
   },
   "file_extension": ".py",
   "mimetype": "text/x-python",
   "name": "python",
   "nbconvert_exporter": "python",
   "pygments_lexer": "ipython3",
   "version": "3.7.6"
  }
 },
 "nbformat": 4,
 "nbformat_minor": 4
}
