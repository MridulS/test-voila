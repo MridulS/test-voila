{
 "cells": [
  {
   "cell_type": "code",
   "execution_count": 98,
   "metadata": {},
   "outputs": [],
   "source": [
    "import numpy as np\n",
    "from ipywidgets import FloatSlider, HBox, VBox, IntSlider\n",
    "import bqplot.pyplot as plt\n",
    "from bqplot import Axis, LinearScale\n",
    "import pandas as pd\n",
    "from datetime import datetime\n",
    "import pickle"
   ]
  },
  {
   "cell_type": "code",
   "execution_count": 99,
   "metadata": {},
   "outputs": [],
   "source": [
    "with open('datafile.pickle', 'rb') as f:\n",
    "    data = pickle.load(f)\n",
    "data['ConRespToStimInPandemic_parameter_1.0'] = data['ConRespToStimInPandemic_parameter_1']"
   ]
  },
  {
   "cell_type": "code",
   "execution_count": 100,
   "metadata": {},
   "outputs": [],
   "source": [
    "test_labels = np.array(['04/2020', '07/2020', '10/2020', '01/2021', '04/2021', '07/2021', '10/2021', '01/2022', '04/2022', '07/2022', '10/2022', '01/2023', '04/2023'])\n",
    "test_labels = pd.to_datetime([datetime.strptime(i, '%m/%Y') for i in test_labels])"
   ]
  },
  {
   "cell_type": "code",
   "execution_count": 101,
   "metadata": {},
   "outputs": [],
   "source": [
    "x = test_labels\n",
    "y = data['ConRespToStimInPandemic_parameter_1.2']\n",
    "dollar = 1200.00\n",
    "title_tmpl = 'Change in mean consumption from stimulus of {} USD'\n",
    "pdf_fig = plt.figure(title=title_tmpl.format(dollar))\n",
    "pdf_line = plt.plot(x, y)\n",
    "plt.ylim(0, 0.28)\n",
    "plt.xlabel('Quarter')\n",
    "plt.ylabel('Average consumption response ($1000)')"
   ]
  },
  {
   "cell_type": "code",
   "execution_count": 102,
   "metadata": {},
   "outputs": [],
   "source": [
    "dollar_slider = FloatSlider(description='USD', value=1200, min=1000, max=1400, step=200)\n",
    "slider_layout = HBox([dollar_slider])"
   ]
  },
  {
   "cell_type": "code",
   "execution_count": 103,
   "metadata": {},
   "outputs": [],
   "source": [
    "def update_density(change):\n",
    "    new_dollar = dollar_slider.value\n",
    "    pdf_line.y = data[f'ConRespToStimInPandemic_parameter_{str(new_dollar/1000)}']\n",
    "    # also update the fig title\n",
    "    pdf_fig.title = title_tmpl.format(new_dollar)\n",
    "\n",
    "# register the above callback with the 'value' trait of the sliders\n",
    "dollar_slider.observe(update_density, 'value')"
   ]
  },
  {
   "cell_type": "code",
   "execution_count": 104,
   "metadata": {},
   "outputs": [
    {
     "data": {
      "application/vnd.jupyter.widget-view+json": {
       "model_id": "60db840f771e4a0282407fb549111b24",
       "version_major": 2,
       "version_minor": 0
      },
      "text/plain": [
       "VBox(children=(Figure(axes=[Axis(label='Quarter', scale=DateScale()), Axis(label='Average consumption response…"
      ]
     },
     "metadata": {},
     "output_type": "display_data"
    }
   ],
   "source": [
    "# now put all the widgets together into a simple dashboard\n",
    "# the plot should update now when the slider values are updated!\n",
    "final_layout = VBox([pdf_fig, slider_layout])\n",
    "final_layout"
   ]
  },
  {
   "cell_type": "code",
   "execution_count": null,
   "metadata": {},
   "outputs": [],
   "source": []
  }
 ],
 "metadata": {
  "jupytext": {
   "notebook_metadata_filter": "all"
  },
  "kernelspec": {
   "display_name": "Python 3",
   "language": "python",
   "name": "python3"
  },
  "language_info": {
   "codemirror_mode": {
    "name": "ipython",
    "version": 3
   },
   "file_extension": ".py",
   "mimetype": "text/x-python",
   "name": "python",
   "nbconvert_exporter": "python",
   "pygments_lexer": "ipython3",
   "version": "3.7.6"
  }
 },
 "nbformat": 4,
 "nbformat_minor": 4
}
